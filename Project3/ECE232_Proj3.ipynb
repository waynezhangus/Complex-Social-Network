{
 "cells": [
  {
   "cell_type": "code",
   "execution_count": 172,
   "metadata": {},
   "outputs": [],
   "source": [
    "import numpy as np\n",
    "import matplotlib.pyplot as plt\n",
    "%matplotlib inline\n",
    "from cvxopt import solvers, matrix\n",
    "from tqdm import tqdm "
   ]
  },
  {
   "cell_type": "markdown",
   "metadata": {},
   "source": [
    "## Class & Functions"
   ]
  },
  {
   "cell_type": "code",
   "execution_count": 173,
   "metadata": {},
   "outputs": [],
   "source": [
    "R1 = np.array([[0,0,0,0,0,0,0,0,0,0], \n",
    "              [0,0,0,0,0,0,0,0,0,0], \n",
    "              [0,0,0,0,0,-10,-10,0,0,0], \n",
    "              [0,0,0,0,0,-10,-10,0,0,0],\n",
    "              [0,-10,-10,0,0,0,0,0,0,0],\n",
    "              [0,-10,-10,0,0,0,0,0,0,0],\n",
    "              [0,0,0,0,0,0,0,0,0,0],\n",
    "              [0,0,0,0,0,0,0,0,0,0],\n",
    "              [0,0,-10,-10,0,0,0,0,0,0],\n",
    "              [0,0,-10,-10,0,0,0,0,0,1]])\n",
    "R1 = R1.flatten()\n",
    "\n",
    "R2 = np.array([[0,0,0,0,0,0,0,0,0,0], \n",
    "              [0,0,0,0,-100,-100,-100,0,0,0], \n",
    "              [0,0,0,0,-100,0,-100,0,0,0], \n",
    "              [0,0,0,0,-100,0,-100,-100,-100,0],\n",
    "              [0,0,0,0,-100,0,0,0,-100,0],\n",
    "              [0,0,0,0,-100,0,0,0,-100,0],\n",
    "              [0,0,0,0,-100,0,0,0,-100,0],\n",
    "              [0,0,0,0,0,0,-100,-100,-100,0],\n",
    "              [0,0,0,0,0,0,-100,0,0,0],\n",
    "              [0,0,0,0,0,0,0,0,0,10]])\n",
    "R2 = R2.flatten()"
   ]
  },
  {
   "cell_type": "code",
   "execution_count": 174,
   "metadata": {},
   "outputs": [],
   "source": [
    "## Define the gridworld MDP class\n",
    "\n",
    "class Gridworld(object):\n",
    "    \"\"\"\n",
    "    Gridworld MDP.\n",
    "    \"\"\"\n",
    "    \n",
    "    def __init__(self, grid_size, wind):\n",
    "        \"\"\"\n",
    "        grid_size: Grid size. int.\n",
    "        wind: Chance of moving randomly. float.\n",
    "        -> Gridworld\n",
    "        \"\"\"\n",
    "\n",
    "        self.actions = ((1, 0), (0, 1), (-1, 0), (0, -1))\n",
    "        self.n_actions = len(self.actions)\n",
    "        self.n_states = grid_size**2\n",
    "        self.grid_size = grid_size\n",
    "        self.wind = wind\n",
    "        self.tp = np.array(\n",
    "            [[self._transition_probability(s, a)\n",
    "               for s in range(self.n_states)]\n",
    "              for a in range(self.n_actions)])\n",
    "\n",
    "    def __str__(self):\n",
    "        return \"Gridworld({}, {})\".format(self.grid_size, \n",
    "                                              self.wind)\n",
    "    \n",
    "    def int_to_point(self, s):\n",
    "        \"\"\"\n",
    "        Convert a state int into the corresponding coordinate.\n",
    "\n",
    "        s: State int.\n",
    "        -> (x, y) int tuple.\n",
    "        \"\"\"\n",
    "\n",
    "        return (s % self.grid_size, s // self.grid_size)\n",
    "\n",
    "    def point_to_int(self, p):\n",
    "        \"\"\"\n",
    "        Convert a coordinate into the corresponding state int.\n",
    "\n",
    "        p: (x, y) tuple.\n",
    "        -> State int.\n",
    "        \"\"\"\n",
    "\n",
    "        return int(p[0] + p[1]*self.grid_size)\n",
    "\n",
    "    def next_state(self, s, a):\n",
    "        \"\"\"\n",
    "        Get next state if w=0.\n",
    "\n",
    "        s: State int.\n",
    "        a: Action int.\n",
    "        -> State int.\n",
    "        \"\"\"\n",
    "        xs, ys = self.int_to_point(s)\n",
    "        xa, ya = self.actions[a]\n",
    "        max = self.grid_size - 1\n",
    "\n",
    "        if (xs + xa < 0) or (xs + xa > max) or (ys + ya < 0) or (ys + ya > max):\n",
    "            return self.point_to_int((xs, ys))\n",
    "        else:\n",
    "            return self.point_to_int((xs + xa, ys + ya))\n",
    "\n",
    "    def _transition_probability(self, s, a):\n",
    "        \"\"\" \n",
    "        Get transition probability.\n",
    "\n",
    "        s: State int.\n",
    "        a: Action int.\n",
    "        -> n_states long list. \n",
    "        \"\"\"\n",
    "        w = self.wind\n",
    "        tp = np.zeros(self.n_states)\n",
    "\n",
    "        for move in range(len(self.actions)):\n",
    "            P = w / 4\n",
    "            # intended moving direction\n",
    "            if a == move:\n",
    "                P += 1 - w\n",
    "            # next state of this move, might be repetitive\n",
    "            ns = self.next_state(s, move)\n",
    "            tp[ns] += P\n",
    "\n",
    "        return tp"
   ]
  },
  {
   "cell_type": "code",
   "execution_count": 175,
   "metadata": {},
   "outputs": [],
   "source": [
    "## The value iteration algorithm to compute the optimal value function for each state\n",
    "\n",
    "def value_iteration(gw, R, discount = 0.8, threshold = 0.01):\n",
    "    \"\"\"\n",
    "    Find the optimal value function.\n",
    "\n",
    "    gw: Gridworld object.\n",
    "    -> V: Optimal state value\n",
    "    -> pi: Optimal policy\n",
    "    -> iter: Converging iterations\n",
    "    \"\"\"\n",
    "\n",
    "    # Initialization\n",
    "    P = gw.tp\n",
    "    V = np.zeros(gw.n_states)\n",
    "    policy = np.zeros(gw.n_states)\n",
    "    delta = np.inf\n",
    "    iter = 0\n",
    "    gamma = discount\n",
    "    epsilon = threshold\n",
    "    \n",
    "    # Esitimation\n",
    "    while delta > epsilon:   \n",
    "        delta = 0\n",
    "        iter += 1\n",
    "        for s in range(gw.n_states):\n",
    "            v = V[s]\n",
    "            V[s] = np.amax(np.matmul(P[:, s, :], (R + gamma * V)))\n",
    "            delta = max(delta, abs(v - V[s]))\n",
    "        # if iter % 4 == 1:\n",
    "        #     print('Iteration: ', str(iter))\n",
    "        #     plot_matrix(np.transpose(V.reshape(10,10)))\n",
    "\n",
    "    for s in range(gw.n_states):\n",
    "        policy[s] = np.argmax(np.matmul(P[:, s, :], (R + gamma * V)))\n",
    "\n",
    "    return V, policy.astype(int), iter"
   ]
  },
  {
   "cell_type": "code",
   "execution_count": 176,
   "metadata": {},
   "outputs": [],
   "source": [
    "def plot_matrix(matrix):\n",
    "    fig, ax = plt.subplots()\n",
    "    num_rows = len(matrix)\n",
    "    min_val, max_val = 0, num_rows\n",
    "\n",
    "    for i in range(num_rows):\n",
    "        for j in range(num_rows):\n",
    "            c = matrix[i][j]\n",
    "            ax.text(j + 0.5, i + 0.5, '{:.1f}'.format(c), va='center', ha='center')\n",
    "\n",
    "    ax.set_xlim(min_val, max_val)\n",
    "    ax.set_ylim(max_val, min_val)\n",
    "    ax.set_xticks(np.arange(max_val))\n",
    "    ax.set_yticks(np.arange(max_val))\n",
    "    ax.xaxis.tick_top()\n",
    "    ax.grid()\n",
    "    plt.show()\n",
    "    plt.close()"
   ]
  },
  {
   "cell_type": "code",
   "execution_count": 177,
   "metadata": {},
   "outputs": [],
   "source": [
    "def plot_heatmap(matrix, title='empty'):\n",
    "  plt.pcolor(matrix, edgecolors='black')\n",
    "  plt.gca().invert_yaxis()\n",
    "  plt.colorbar()\n",
    "  plt.title(title)\n",
    "  #plt.savefig(title.replace(\" \",\"\") +'.png',dpi=300,bbox_inches='tight')\n",
    "  plt.show()"
   ]
  },
  {
   "cell_type": "code",
   "execution_count": 178,
   "metadata": {},
   "outputs": [],
   "source": [
    "def plot_arrow(action_matrix):\n",
    "    fig, ax = plt.subplots()\n",
    "    num_rows = len(action_matrix)\n",
    "    min_val, max_val = 0, num_rows\n",
    "\n",
    "    for i in range(num_rows):\n",
    "        for j in range(num_rows):\n",
    "            c = action_matrix[i][j]\n",
    "            arrow = ''\n",
    "            if(c == 0):\n",
    "                arrow = u'↓'\n",
    "            elif(c == 1):\n",
    "                arrow = u'→'\n",
    "            elif(c == 2):\n",
    "                arrow = u'↑'\n",
    "            else:\n",
    "                arrow = u'←'\n",
    "            \n",
    "            ax.text(j + 0.5, i + 0.5, arrow, va='center', ha='center')\n",
    "\n",
    "    ax.set_xlim(min_val, max_val)\n",
    "    ax.set_ylim(max_val, min_val)\n",
    "    ax.set_xticks(np.arange(max_val))\n",
    "    ax.set_yticks(np.arange(max_val))\n",
    "    ax.xaxis.tick_top()\n",
    "    ax.grid()"
   ]
  },
  {
   "cell_type": "code",
   "execution_count": 179,
   "metadata": {},
   "outputs": [],
   "source": [
    "## Creating the gridworld MDP with the following parameters\n",
    "grid_size = 10\n",
    "wind = 0.1\n",
    "\n",
    "# Make the gridworld \n",
    "gw = Gridworld(grid_size, wind)"
   ]
  },
  {
   "cell_type": "markdown",
   "metadata": {},
   "source": [
    "## Question 1-5"
   ]
  },
  {
   "cell_type": "code",
   "execution_count": 180,
   "metadata": {},
   "outputs": [
    {
     "data": {
      "image/png": "[encoded data removed]",
      "text/plain": [
       "<Figure size 432x288 with 2 Axes>"
      ]
     },
     "metadata": {
      "needs_background": "light"
     },
     "output_type": "display_data"
    },
    {
     "name": "stdout",
     "output_type": "stream",
     "text": [
      "Total iteration:  21\n"
     ]
    },
    {
     "data": {
      "image/png": "[encoded data removed]",
      "text/plain": [
       "<Figure size 432x288 with 2 Axes>"
      ]
     },
     "metadata": {
      "needs_background": "light"
     },
     "output_type": "display_data"
    },
    {
     "data": {
      "image/png": "[encoded data removed]",
      "text/plain": [
       "<Figure size 432x288 with 1 Axes>"
      ]
     },
     "metadata": {
      "needs_background": "light"
     },
     "output_type": "display_data"
    }
   ],
   "source": [
    "plot_heatmap(R1.reshape(10,10), 'Heat map of Reward function 1')\n",
    "V1, policy1, N1 = value_iteration(gw, R1)\n",
    "print('Total iteration: ', str(N1))\n",
    "plot_heatmap(V1.reshape(10,10), 'Heat map of optimal state values for reward function 1')\n",
    "plot_arrow(policy1.reshape(10,10))"
   ]
  },
  {
   "cell_type": "markdown",
   "metadata": {},
   "source": [
    "## Question 6-9"
   ]
  },
  {
   "cell_type": "code",
   "execution_count": 181,
   "metadata": {},
   "outputs": [
    {
     "data": {
      "image/png": "[encoded data removed]",
      "text/plain": [
       "<Figure size 432x288 with 2 Axes>"
      ]
     },
     "metadata": {
      "needs_background": "light"
     },
     "output_type": "display_data"
    },
    {
     "name": "stdout",
     "output_type": "stream",
     "text": [
      "Total iteration:  31\n"
     ]
    },
    {
     "data": {
      "image/png": "[encoded data removed]",
      "text/plain": [
       "<Figure size 432x288 with 2 Axes>"
      ]
     },
     "metadata": {
      "needs_background": "light"
     },
     "output_type": "display_data"
    },
    {
     "data": {
      "image/png": "[encoded data removed]",
      "text/plain": [
       "<Figure size 432x288 with 1 Axes>"
      ]
     },
     "metadata": {
      "needs_background": "light"
     },
     "output_type": "display_data"
    }
   ],
   "source": [
    "plot_heatmap(R2.reshape(10,10), 'Heat map of Reward function 1')\n",
    "V2, policy2, N2 = value_iteration(gw, R2)\n",
    "print('Total iteration: ', str(N2))\n",
    "plot_heatmap(V2.reshape(10,10), 'Heat map of optimal state values for reward function 2')\n",
    "plot_arrow(policy2.reshape(10,10))"
   ]
  },
  {
   "cell_type": "markdown",
   "metadata": {},
   "source": [
    "## Question 10-12"
   ]
  },
  {
   "cell_type": "code",
   "execution_count": 182,
   "metadata": {},
   "outputs": [],
   "source": [
    "def construct_lp_matrices(gw, policy, lmda, Rmax, gamma = 0.8):\n",
    "    P = gw.tp\n",
    "    S = gw.n_states\n",
    "    nA = gw.n_actions\n",
    "    c = np.concatenate([np.ones((S,)), -lmda * np.ones((S,)), np.zeros((S,))])\n",
    "    b = np.concatenate([np.zeros((2 * (nA - 1) * S + 2 * S,)), Rmax * np.ones((2 * S,))])\n",
    "    D = np.array([])\n",
    "    Pa1 = np.zeros((S, S))\n",
    "    Pas = np.zeros((3, S, S))\n",
    "    I, Z = np.identity(S), np.zeros((S,S))\n",
    "    \n",
    "    for s in range(S):\n",
    "        optA = policy[s]\n",
    "        Pa1[s, :] = P[optA][s]\n",
    "        otherA = np.setdiff1d(range(nA), optA)\n",
    "        for i, a in enumerate(otherA):\n",
    "            Pas[i, s, :] = P[a][s]\n",
    "            \n",
    "    for i in range(nA - 1):\n",
    "        Pa = Pas[i]\n",
    "        temp = np.hstack((I, Z, np.matmul(Pa - Pa1, np.linalg.inv(I - gamma * Pa1))))\n",
    "        temp = np.vstack((temp, np.hstack((Z, Z, np.matmul(Pa - Pa1, np.linalg.inv(I - gamma * Pa1))))))\n",
    "        D = temp if (D.shape[0] == 0) else np.vstack((temp, D))\n",
    "            \n",
    "    D = np.vstack((D, np.hstack((Z, -I, I))))\n",
    "    D = np.vstack((D, np.hstack((Z, -I, -I))))\n",
    "    D = np.vstack((D, np.hstack((Z, Z, I))))\n",
    "    D = np.vstack((D, np.hstack((Z, Z, -I))))\n",
    "    \n",
    "    return c, b, D"
   ]
  },
  {
   "cell_type": "code",
   "execution_count": 183,
   "metadata": {},
   "outputs": [],
   "source": [
    "def solve_lp(gw, policy, lmda, Rmax):\n",
    "    solvers.options['show_progress']=False\n",
    "    c, b, D = construct_lp_matrices(gw, policy, lmda, Rmax)\n",
    "    solution = solvers.lp(-matrix(c.transpose()), matrix(D), matrix(b))\n",
    "    return np.array(solution['x'][-100:]).squeeze()"
   ]
  },
  {
   "cell_type": "code",
   "execution_count": 184,
   "metadata": {},
   "outputs": [],
   "source": [
    "def calc_accuracy(gw, policy, lmdas, Rmax):\n",
    "    accuracy = np.zeros_like(lmdas)\n",
    "    for i, lmda in enumerate(tqdm(lmdas)):\n",
    "        R_predicted = solve_lp(gw, policy, lmda, Rmax)\n",
    "        V, policy_predicted, iter = value_iteration(gw, R_predicted)\n",
    "        accuracy[i] = (policy_predicted == policy).sum() / gw.n_states\n",
    "    return accuracy"
   ]
  },
  {
   "cell_type": "code",
   "execution_count": 185,
   "metadata": {},
   "outputs": [
    {
     "name": "stdout",
     "output_type": "stream",
     "text": [
      "500\n"
     ]
    },
    {
     "name": "stderr",
     "output_type": "stream",
     "text": [
      "100%|██████████| 500/500 [10:04<00:00,  1.21s/it]\n"
     ]
    },
    {
     "data": {
      "text/plain": [
       "Text(0.5, 0, '$\\\\lambda$')"
      ]
     },
     "execution_count": 185,
     "metadata": {},
     "output_type": "execute_result"
    },
    {
     "data": {
      "image/png": "[encoded data removed]",
      "text/plain": [
       "<Figure size 432x288 with 1 Axes>"
      ]
     },
     "metadata": {
      "needs_background": "light"
     },
     "output_type": "display_data"
    }
   ],
   "source": [
    "R1max = np.amax(np.abs(R1)) \n",
    "lmdas = np.linspace(0, 5, 500)\n",
    "print(lmdas.size)\n",
    "accuracy1 = calc_accuracy(gw, policy1, lmdas, R1max)\n",
    "plt.plot(lmdas, accuracy1)\n",
    "plt.ylabel('Accuracy')\n",
    "plt.xlabel('$\\lambda$')\n",
    "#plt.savefig('q11.png', bbox_inches='tight')"
   ]
  },
  {
   "cell_type": "code",
   "execution_count": 186,
   "metadata": {},
   "outputs": [
    {
     "name": "stdout",
     "output_type": "stream",
     "text": [
      "0.7114228456913827\n"
     ]
    }
   ],
   "source": [
    "lmda_max1=lmdas[np.argmax(accuracy1)]\n",
    "print(lmda_max1)"
   ]
  }
 ],
 "metadata": {
  "interpreter": {
   "hash": "3bde1dc8e582a3f34b4f94c64f98a7f690c3e1221397125054a1317fc54c7915"
  },
  "kernelspec": {
   "display_name": "Python 3.9.12 ('testenv')",
   "language": "python",
   "name": "python3"
  },
  "language_info": {
   "codemirror_mode": {
    "name": "ipython",
    "version": 3
   },
   "file_extension": ".py",
   "mimetype": "text/x-python",
   "name": "python",
   "nbconvert_exporter": "python",
   "pygments_lexer": "ipython3",
   "version": "3.9.12"
  }
 },
 "nbformat": 4,
 "nbformat_minor": 2
}
