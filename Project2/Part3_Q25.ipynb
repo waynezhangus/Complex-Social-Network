{
  "cells": [
    {
      "cell_type": "code",
      "execution_count": 25,
      "metadata": {
        "colab": {
          "base_uri": "https://localhost:8080/"
        },
        "id": "WC5Rq99els1H",
        "outputId": "a4c56def-6bb8-4a0f-d9bc-c6c81b7adcc0"
      },
      "outputs": [],
      "source": [
        "import numpy as np\n",
        "import os\n",
        "import networkx as nx\n",
        "from sklearn.model_selection import train_test_split\n",
        "import pandas as pd\n",
        "from sklearn.metrics import accuracy_score, f1_score\n",
        "from sklearn.metrics import classification_report\n",
        "from numpy import dot\n",
        "from numpy.linalg import norm\n",
        "from tqdm import tqdm\n",
        "\n",
        "from collections import Counter\n",
        "import matplotlib.pyplot as plt\n",
        "# !unzip \"cora (extract.me).zip\"\n"
      ]
    },
    {
      "cell_type": "code",
      "execution_count": 26,
      "metadata": {
        "id": "x91rSYec3lQb"
      },
      "outputs": [],
      "source": [
        "all_data = []\n",
        "all_edges = []\n",
        "\n",
        "for root,dirs,files in os.walk('./cora'):\n",
        "    for file in files:\n",
        "        if '.content' in file:\n",
        "            with open(os.path.join(root,file),'r') as f:\n",
        "                all_data.extend(f.read().splitlines())\n",
        "        elif 'cites' in file:\n",
        "            with open(os.path.join(root,file),'r') as f:\n",
        "                all_edges.extend(f.read().splitlines())"
      ]
    },
    {
      "cell_type": "code",
      "execution_count": 27,
      "metadata": {
        "colab": {
          "base_uri": "https://localhost:8080/"
        },
        "id": "aS4GfV8pCPbF",
        "outputId": "91ec3fd2-0636-4ed4-8e58-6be408503779"
      },
      "outputs": [
        {
          "data": {
            "text/plain": [
              "{'Case_Based': 0,\n",
              " 'Genetic_Algorithms': 1,\n",
              " 'Neural_Networks': 2,\n",
              " 'Probabilistic_Methods': 3,\n",
              " 'Reinforcement_Learning': 4,\n",
              " 'Rule_Learning': 5,\n",
              " 'Theory': 6}"
            ]
          },
          "execution_count": 27,
          "metadata": {},
          "output_type": "execute_result"
        }
      ],
      "source": [
        "categories =  ['Reinforcement_Learning', 'Theory', 'Case_Based', 'Genetic_Algorithms', 'Probabilistic_Methods', 'Neural_Networks', 'Rule_Learning']\n",
        "sorted(categories)\n",
        "label_encoder = {}\n",
        "i = 0\n",
        "for cat in sorted(categories):\n",
        "  label_encoder[cat] = i\n",
        "  i +=1\n",
        "label_encoder"
      ]
    },
    {
      "cell_type": "code",
      "execution_count": 28,
      "metadata": {
        "colab": {
          "base_uri": "https://localhost:8080/"
        },
        "id": "yAK_lPbU4Rxo",
        "outputId": "a5e69cae-6ae9-414c-fb3a-40b91a59cb95"
      },
      "outputs": [
        {
          "name": "stdout",
          "output_type": "stream",
          "text": [
            "X shape:  (2708, 1433)\n",
            "\n",
            "Number of nodes (N):  2708\n",
            "\n",
            "Number of features (F) of each node:  1433\n",
            "\n",
            "Categories:  {0, 1, 2, 3, 4, 5, 6}\n",
            "\n",
            "Number of classes:  7\n"
          ]
        }
      ],
      "source": [
        "#parse the data\n",
        "labels = []\n",
        "nodes = []\n",
        "X = []\n",
        "element_to_ind  = {}\n",
        "\n",
        "for i,data in enumerate(all_data):\n",
        "    elements = data.split('\\t')\n",
        "    labels.append(label_encoder[elements[-1]])\n",
        "    X.append(elements[1:-1])\n",
        "    nodes.append(elements[0])\n",
        "    element_to_ind[elements[0]]= i\n",
        "X = np.array(X,dtype=int)\n",
        "N = X.shape[0] #the number of nodes\n",
        "F = X.shape[1] #the size of node features\n",
        "print('X shape: ', X.shape)\n",
        "\n",
        "#parse the edge\n",
        "edge_list=[]\n",
        "for edge in all_edges:\n",
        "    e = edge.split('\\t')\n",
        "    edge_list.append((e[0],e[1]))\n",
        "\n",
        "print('\\nNumber of nodes (N): ', N)\n",
        "print('\\nNumber of features (F) of each node: ', F)\n",
        "print('\\nCategories: ', set(labels))\n",
        "\n",
        "num_classes = len(set(labels))\n",
        "print('\\nNumber of classes: ', num_classes)"
      ]
    },
    {
      "cell_type": "code",
      "execution_count": 29,
      "metadata": {
        "colab": {
          "base_uri": "https://localhost:8080/"
        },
        "id": "Z3m0ubWRG1Yo",
        "outputId": "70467102-a822-44e2-de82-926836358c6a"
      },
      "outputs": [
        {
          "name": "stdout",
          "output_type": "stream",
          "text": [
            "Graph info:  Graph with 2708 nodes and 5278 edges\n"
          ]
        }
      ],
      "source": [
        "G = nx.Graph()\n",
        "G.add_nodes_from(nodes)\n",
        "G.add_edges_from(edge_list)\n",
        "G = nx.relabel_nodes(G, element_to_ind)\n",
        "print('Graph info: ', nx.info(G))"
      ]
    },
    {
      "cell_type": "code",
      "execution_count": 31,
      "metadata": {
        "colab": {
          "base_uri": "https://localhost:8080/",
          "height": 223
        },
        "id": "6he3sYO8-kf_",
        "outputId": "36c76451-6552-4ede-ace0-4f14404eef84"
      },
      "outputs": [
        {
          "name": "stdout",
          "output_type": "stream",
          "text": [
            "2708\n"
          ]
        },
        {
          "data": {
            "text/html": [
              "<div>\n",
              "<style scoped>\n",
              "    .dataframe tbody tr th:only-of-type {\n",
              "        vertical-align: middle;\n",
              "    }\n",
              "\n",
              "    .dataframe tbody tr th {\n",
              "        vertical-align: top;\n",
              "    }\n",
              "\n",
              "    .dataframe thead th {\n",
              "        text-align: right;\n",
              "    }\n",
              "</style>\n",
              "<table border=\"1\" class=\"dataframe\">\n",
              "  <thead>\n",
              "    <tr style=\"text-align: right;\">\n",
              "      <th></th>\n",
              "      <th>node</th>\n",
              "      <th>label</th>\n",
              "      <th>features</th>\n",
              "    </tr>\n",
              "  </thead>\n",
              "  <tbody>\n",
              "    <tr>\n",
              "      <th>0</th>\n",
              "      <td>0</td>\n",
              "      <td>2</td>\n",
              "      <td>[0, 0, 0, 0, 0, 0, 0, 0, 0, 0, 0, 0, 0, 0, 0, ...</td>\n",
              "    </tr>\n",
              "    <tr>\n",
              "      <th>1</th>\n",
              "      <td>1</td>\n",
              "      <td>5</td>\n",
              "      <td>[0, 0, 0, 0, 0, 0, 0, 0, 0, 0, 0, 0, 1, 0, 0, ...</td>\n",
              "    </tr>\n",
              "    <tr>\n",
              "      <th>2</th>\n",
              "      <td>2</td>\n",
              "      <td>4</td>\n",
              "      <td>[0, 0, 0, 0, 0, 0, 0, 0, 0, 0, 0, 0, 0, 0, 0, ...</td>\n",
              "    </tr>\n",
              "    <tr>\n",
              "      <th>3</th>\n",
              "      <td>3</td>\n",
              "      <td>4</td>\n",
              "      <td>[0, 0, 0, 0, 0, 0, 0, 0, 0, 0, 0, 0, 0, 0, 0, ...</td>\n",
              "    </tr>\n",
              "    <tr>\n",
              "      <th>4</th>\n",
              "      <td>4</td>\n",
              "      <td>3</td>\n",
              "      <td>[0, 0, 0, 0, 0, 0, 0, 0, 0, 0, 0, 0, 0, 0, 0, ...</td>\n",
              "    </tr>\n",
              "  </tbody>\n",
              "</table>\n",
              "</div>"
            ],
            "text/plain": [
              "   node  label                                           features\n",
              "0     0      2  [0, 0, 0, 0, 0, 0, 0, 0, 0, 0, 0, 0, 0, 0, 0, ...\n",
              "1     1      5  [0, 0, 0, 0, 0, 0, 0, 0, 0, 0, 0, 0, 1, 0, 0, ...\n",
              "2     2      4  [0, 0, 0, 0, 0, 0, 0, 0, 0, 0, 0, 0, 0, 0, 0, ...\n",
              "3     3      4  [0, 0, 0, 0, 0, 0, 0, 0, 0, 0, 0, 0, 0, 0, 0, ...\n",
              "4     4      3  [0, 0, 0, 0, 0, 0, 0, 0, 0, 0, 0, 0, 0, 0, 0, ..."
            ]
          },
          "execution_count": 31,
          "metadata": {},
          "output_type": "execute_result"
        }
      ],
      "source": [
        "nodes = list(G.nodes)\n",
        "df = pd.DataFrame(list(zip(nodes, labels,X)),columns =['node', 'label','features'])\n",
        "print(len(df))\n",
        "df.head()"
      ]
    },
    {
      "cell_type": "code",
      "execution_count": 32,
      "metadata": {
        "id": "OzKIpJxu4t1R"
      },
      "outputs": [],
      "source": [
        "Gcc = sorted(nx.connected_components(G), key=len, reverse=True)\n",
        "G = G.subgraph(Gcc[0])\n",
        "gcc_nodes = list(G.nodes)\n"
      ]
    },
    {
      "cell_type": "code",
      "execution_count": 33,
      "metadata": {
        "colab": {
          "base_uri": "https://localhost:8080/",
          "height": 310
        },
        "id": "LGfGmfIfCagn",
        "outputId": "c9f1c127-3968-413c-dfe6-2d14d54aec85"
      },
      "outputs": [
        {
          "name": "stdout",
          "output_type": "stream",
          "text": [
            "2485\n"
          ]
        },
        {
          "data": {
            "text/html": [
              "<div>\n",
              "<style scoped>\n",
              "    .dataframe tbody tr th:only-of-type {\n",
              "        vertical-align: middle;\n",
              "    }\n",
              "\n",
              "    .dataframe tbody tr th {\n",
              "        vertical-align: top;\n",
              "    }\n",
              "\n",
              "    .dataframe thead th {\n",
              "        text-align: right;\n",
              "    }\n",
              "</style>\n",
              "<table border=\"1\" class=\"dataframe\">\n",
              "  <thead>\n",
              "    <tr style=\"text-align: right;\">\n",
              "      <th></th>\n",
              "      <th>node</th>\n",
              "      <th>label</th>\n",
              "      <th>features</th>\n",
              "    </tr>\n",
              "  </thead>\n",
              "  <tbody>\n",
              "    <tr>\n",
              "      <th>0</th>\n",
              "      <td>0</td>\n",
              "      <td>2</td>\n",
              "      <td>[0, 0, 0, 0, 0, 0, 0, 0, 0, 0, 0, 0, 0, 0, 0, ...</td>\n",
              "    </tr>\n",
              "    <tr>\n",
              "      <th>1</th>\n",
              "      <td>1</td>\n",
              "      <td>5</td>\n",
              "      <td>[0, 0, 0, 0, 0, 0, 0, 0, 0, 0, 0, 0, 1, 0, 0, ...</td>\n",
              "    </tr>\n",
              "    <tr>\n",
              "      <th>2</th>\n",
              "      <td>2</td>\n",
              "      <td>4</td>\n",
              "      <td>[0, 0, 0, 0, 0, 0, 0, 0, 0, 0, 0, 0, 0, 0, 0, ...</td>\n",
              "    </tr>\n",
              "    <tr>\n",
              "      <th>3</th>\n",
              "      <td>3</td>\n",
              "      <td>4</td>\n",
              "      <td>[0, 0, 0, 0, 0, 0, 0, 0, 0, 0, 0, 0, 0, 0, 0, ...</td>\n",
              "    </tr>\n",
              "    <tr>\n",
              "      <th>4</th>\n",
              "      <td>4</td>\n",
              "      <td>3</td>\n",
              "      <td>[0, 0, 0, 0, 0, 0, 0, 0, 0, 0, 0, 0, 0, 0, 0, ...</td>\n",
              "    </tr>\n",
              "  </tbody>\n",
              "</table>\n",
              "</div>"
            ],
            "text/plain": [
              "   node  label                                           features\n",
              "0     0      2  [0, 0, 0, 0, 0, 0, 0, 0, 0, 0, 0, 0, 0, 0, 0, ...\n",
              "1     1      5  [0, 0, 0, 0, 0, 0, 0, 0, 0, 0, 0, 0, 1, 0, 0, ...\n",
              "2     2      4  [0, 0, 0, 0, 0, 0, 0, 0, 0, 0, 0, 0, 0, 0, 0, ...\n",
              "3     3      4  [0, 0, 0, 0, 0, 0, 0, 0, 0, 0, 0, 0, 0, 0, 0, ...\n",
              "4     4      3  [0, 0, 0, 0, 0, 0, 0, 0, 0, 0, 0, 0, 0, 0, 0, ..."
            ]
          },
          "execution_count": 33,
          "metadata": {},
          "output_type": "execute_result"
        }
      ],
      "source": [
        "df = df.loc[df['node'].isin(gcc_nodes)]\n",
        "df['node'] = list(range(len(df))) #rename nodes \n",
        "print(len(df))\n",
        "df.head()"
      ]
    },
    {
      "cell_type": "code",
      "execution_count": 34,
      "metadata": {
        "id": "eTFmrdSkFbkC"
      },
      "outputs": [],
      "source": [
        "train = df.groupby('label', group_keys=False).apply(lambda x: x.sample(20))\n",
        "G = nx.relabel_nodes(G, df['node'])"
      ]
    },
    {
      "cell_type": "code",
      "execution_count": 35,
      "metadata": {
        "id": "-TbwmeDAoMyg"
      },
      "outputs": [],
      "source": [
        "def create_transition_matrix(g):\n",
        "    vs = list(g.nodes)\n",
        "    n = len(vs)\n",
        "    adj = nx.adjacency_matrix(g)\n",
        "    transition_matrix = adj/adj.sum(axis=1)\n",
        "\n",
        "    return transition_matrix"
      ]
    },
    {
      "cell_type": "code",
      "execution_count": 36,
      "metadata": {
        "id": "L2Nq1801raPj"
      },
      "outputs": [],
      "source": [
        "def random_walk(g, num_steps, start_node, transition_matrix = None):\n",
        "  if transition_matrix is None:\n",
        "    transition_matrix = create_transition_matrix(g)\n",
        "    print( 'create_transition_matrix')\n",
        "  #perform a random walk \n",
        "  v = start_node\n",
        "  all_node = np.arange(len(transition_matrix))\n",
        "  for i in range(num_steps):\n",
        "    connected = (transition_matrix[v]!=0)\n",
        "    p = transition_matrix[v][connected]\n",
        "    node = all_node[connected]\n",
        "    v = np.random.choice(node, p = p)\n",
        "\n",
        "  return v"
      ]
    },
    {
      "cell_type": "code",
      "execution_count": 37,
      "metadata": {
        "id": "spCD5MySNj12"
      },
      "outputs": [],
      "source": [
        "seeds_dict = {predicted:list(train[train['label'] == predicted]['node']) for predicted in range(7)}\n",
        "\n",
        "def random_walk_with_teleportation(g, num_steps, start_node, tp, predicted = None, transition_matrix = None):\n",
        "  if transition_matrix is None:\n",
        "    transition_matrix = create_transition_matrix(g)\n",
        "  v = start_node\n",
        "  all_node = np.arange(len(transition_matrix))\n",
        "  for i in range(num_steps):\n",
        "    if(np.random.uniform() < tp):\n",
        "      v = np.random.choice(predicted)\n",
        "    else:\n",
        "      connected = (transition_matrix[v]!=0)\n",
        "      p= transition_matrix[v][connected]\n",
        "      node = all_node[connected]\n",
        "      v = np.random.choice(node, p = p)\n",
        "    \n",
        "  return v"
      ]
    },
    {
      "cell_type": "code",
      "execution_count": 38,
      "metadata": {
        "id": "bHSti-Kb55HZ"
      },
      "outputs": [
        {
          "name": "stdout",
          "output_type": "stream",
          "text": [
            "unvisited =  0\n",
            "              precision    recall  f1-score   support\n",
            "\n",
            "           0       0.36      0.57      0.44       285\n",
            "           1       0.46      0.51      0.48       406\n",
            "           2       0.53      0.30      0.38       726\n",
            "           3       0.65      0.59      0.62       379\n",
            "           4       0.12      0.16      0.14       214\n",
            "           5       0.10      0.21      0.13       131\n",
            "           6       0.21      0.17      0.19       344\n",
            "\n",
            "    accuracy                           0.37      2485\n",
            "   macro avg       0.35      0.36      0.34      2485\n",
            "weighted avg       0.41      0.37      0.38      2485\n",
            "\n",
            "accuracy_score 0.3734406438631791\n",
            "f1_score 0.34015956840581435\n"
          ]
        }
      ],
      "source": [
        "# Part A. W.o. teleportation, w.o. tfidf. \n",
        "transition_matrix = create_transition_matrix(G)\n",
        "transition_matrix = np.array(transition_matrix)\n",
        "num_samples = 1000  \n",
        "num_walk_steps = 100\n",
        "\n",
        "visiting_freq_label = []\n",
        "for i in range(transition_matrix.shape[0]):\n",
        "  visiting_freq_label.append([0,0,0,0,0,0,0])\n",
        "\n",
        "visiting_freq = [0 for i in range(transition_matrix.shape[0])]\n",
        "\n",
        "for train_node, predicted in zip(train['node'],train['label']):\n",
        "  for i in range(num_samples):\n",
        "      start_point = train_node\n",
        "      end_node = random_walk(G, num_walk_steps, start_point, transition_matrix)\n",
        "      visiting_freq_label[end_node][predicted] += 1\n",
        "      visiting_freq[end_node] +=1\n",
        "\n",
        "count = 0 #these many nodes remain unvisited. \n",
        "for vf in visiting_freq:\n",
        "  if vf ==0:\n",
        "    count+=1\n",
        "print('unvisited = ', count)\n",
        "visiting_freq_label = np.asarray(visiting_freq_label)\n",
        "preds = np.argmax(visiting_freq_label,axis = 1)\n",
        "print(classification_report(df['label'], preds))\n",
        "print('accuracy_score', accuracy_score(df['label'], preds))\n",
        "print('f1_score', f1_score(df['label'], preds, average='macro'))"
      ]
    },
    {
      "cell_type": "code",
      "execution_count": 39,
      "metadata": {},
      "outputs": [
        {
          "name": "stdout",
          "output_type": "stream",
          "text": [
            "unvisited =  0\n",
            "              precision    recall  f1-score   support\n",
            "\n",
            "           0       0.37      0.61      0.46       285\n",
            "           1       0.47      0.51      0.49       406\n",
            "           2       0.55      0.28      0.37       726\n",
            "           3       0.68      0.56      0.62       379\n",
            "           4       0.09      0.14      0.11       214\n",
            "           5       0.10      0.24      0.15       131\n",
            "           6       0.26      0.20      0.22       344\n",
            "\n",
            "    accuracy                           0.38      2485\n",
            "   macro avg       0.36      0.36      0.35      2485\n",
            "weighted avg       0.43      0.38      0.39      2485\n",
            "\n",
            "accuracy_score 0.3750503018108652\n",
            "f1_score 0.346538662493233\n",
            "unvisited =  23\n",
            "              precision    recall  f1-score   support\n",
            "\n",
            "           0       0.71      0.72      0.72       285\n",
            "           1       0.83      0.89      0.86       406\n",
            "           2       0.86      0.56      0.67       726\n",
            "           3       0.75      0.79      0.77       379\n",
            "           4       0.59      0.83      0.69       214\n",
            "           5       0.44      0.84      0.58       131\n",
            "           6       0.62      0.62      0.62       344\n",
            "\n",
            "    accuracy                           0.71      2485\n",
            "   macro avg       0.69      0.75      0.70      2485\n",
            "weighted avg       0.74      0.71      0.71      2485\n",
            "\n",
            "accuracy_score 0.7126760563380282\n",
            "f1_score 0.7018225114752825\n",
            "unvisited =  87\n",
            "              precision    recall  f1-score   support\n",
            "\n",
            "           0       0.60      0.72      0.65       285\n",
            "           1       0.84      0.88      0.86       406\n",
            "           2       0.86      0.53      0.66       726\n",
            "           3       0.71      0.75      0.73       379\n",
            "           4       0.60      0.83      0.70       214\n",
            "           5       0.44      0.83      0.58       131\n",
            "           6       0.61      0.57      0.59       344\n",
            "\n",
            "    accuracy                           0.69      2485\n",
            "   macro avg       0.67      0.73      0.68      2485\n",
            "weighted avg       0.72      0.69      0.69      2485\n",
            "\n",
            "accuracy_score 0.6909456740442655\n",
            "f1_score 0.6806894009799764\n"
          ]
        }
      ],
      "source": [
        "# Part B. W. teleportation, w.o. tfidf. \n",
        "transition_matrix = create_transition_matrix(G)\n",
        "transition_matrix = np.array(transition_matrix)\n",
        "num_samples = 1000  \n",
        "num_walk_steps = 100\n",
        "\n",
        "for tp in [0,0.1,0.2]:\n",
        "  visiting_freq_label = []\n",
        "  for i in range(transition_matrix.shape[0]):\n",
        "    visiting_freq_label.append([0,0,0,0,0,0,0])\n",
        "  visiting_freq = [0 for i in range(transition_matrix.shape[0])]\n",
        "\n",
        "  for train_node, predicted in zip(train['node'],train['label']):\n",
        "    for i in range(num_samples):\n",
        "        start_point = train_node\n",
        "        end_node = random_walk_with_teleportation(G, num_walk_steps, start_point, tp, predicted = seeds_dict[predicted], transition_matrix = transition_matrix)\n",
        "        visiting_freq_label[end_node][predicted] += 1\n",
        "        visiting_freq[end_node] +=1\n",
        "  \n",
        "  count = 0 #these many nodes remain unvisited. \n",
        "  for vf in visiting_freq:\n",
        "    if vf ==0:\n",
        "      count+=1\n",
        "  print('unvisited = ', count)\n",
        "  visiting_freq_label = np.asarray(visiting_freq_label)\n",
        "  preds = np.argmax(visiting_freq_label,axis = 1)\n",
        "  print(classification_report(df['label'], preds))\n",
        "  print('accuracy_score', accuracy_score(df['label'], preds))\n",
        "  print('f1_score', f1_score(df['label'], preds, average='macro'))"
      ]
    },
    {
      "cell_type": "code",
      "execution_count": 40,
      "metadata": {
        "id": "qAE5ZH3vWdD0"
      },
      "outputs": [],
      "source": [
        "# compute similarity for transition matrix\n",
        "from sklearn.feature_extraction.text import TfidfTransformer\n",
        "tfidf_feat = np.array(TfidfTransformer().fit_transform(np.stack(df.features)).todense())\n",
        "from math import *\n",
        "vs = list(G.nodes)\n",
        "n = len(vs)\n",
        "adj = nx.adjacency_matrix(G)\n",
        "transition = np.zeros((len(G.nodes), len(G.nodes)))\n",
        "\n",
        "transition_matrix = np.array(create_transition_matrix(G))\n",
        "\n",
        "for n1 in df['node'].tolist():\n",
        "  for n2 in df['node'].tolist():\n",
        "    if transition_matrix[n1][n2]:\n",
        "      assert transition_matrix[n2][n1]>0\n",
        "      a, b = tfidf_feat[n1], tfidf_feat[n2]\n",
        "      cos_sim = (a @ b.T) / (norm(a)*norm(b))\n",
        "      transition[n1,n2] = np.exp(cos_sim) \n",
        "\n",
        "for i in range(len(transition)):\n",
        "  line = transition[i][transition[i]!=0]\n",
        "  transition[i] /= line.sum()"
      ]
    },
    {
      "cell_type": "code",
      "execution_count": 41,
      "metadata": {},
      "outputs": [
        {
          "name": "stderr",
          "output_type": "stream",
          "text": [
            "100%|██████████| 140/140 [07:53<00:00,  3.38s/it]"
          ]
        },
        {
          "name": "stdout",
          "output_type": "stream",
          "text": [
            "unvisited =  0\n",
            "              precision    recall  f1-score   support\n",
            "\n",
            "           0       0.36      0.58      0.44       285\n",
            "           1       0.45      0.53      0.49       406\n",
            "           2       0.55      0.28      0.37       726\n",
            "           3       0.69      0.58      0.63       379\n",
            "           4       0.12      0.17      0.14       214\n",
            "           5       0.11      0.26      0.16       131\n",
            "           6       0.30      0.22      0.25       344\n",
            "\n",
            "    accuracy                           0.38      2485\n",
            "   macro avg       0.37      0.38      0.36      2485\n",
            "weighted avg       0.44      0.38      0.39      2485\n",
            "\n",
            "accuracy_score 0.3835010060362173\n",
            "f1_score 0.3561698600914448\n"
          ]
        },
        {
          "name": "stderr",
          "output_type": "stream",
          "text": [
            "\n"
          ]
        }
      ],
      "source": [
        "# Part C. W.o. teleportation, w. tfidf. \n",
        "transition_matrix = transition\n",
        "num_samples = 1000  \n",
        "num_walk_steps = 100\n",
        "\n",
        "visiting_freq_label = []\n",
        "for i in range(transition_matrix.shape[0]):\n",
        "  visiting_freq_label.append([0,0,0,0,0,0,0])\n",
        "\n",
        "visiting_freq = [0 for i in range(transition_matrix.shape[0])]\n",
        "\n",
        "for train_node,predicted in tqdm(zip(train['node'],train['label']), total=len(train['label'])):\n",
        "  for i in range(num_samples):\n",
        "      start_point = train_node\n",
        "      end_node = random_walk(G, num_walk_steps, start_point, transition_matrix)\n",
        "      visiting_freq_label[end_node][predicted] += 1\n",
        "      visiting_freq[end_node] +=1\n",
        "\n",
        "count = 0 #these many nodes remain unvisited. \n",
        "for vf in visiting_freq:\n",
        "  if vf ==0:\n",
        "    count+=1\n",
        "print('unvisited = ', count)\n",
        "visiting_freq_label = np.asarray(visiting_freq_label)\n",
        "preds = np.argmax(visiting_freq_label,axis = 1)\n",
        "print(classification_report(df['label'], preds))\n",
        "print('accuracy_score', accuracy_score(df['label'], preds))\n",
        "print('f1_score', f1_score(df['label'], preds, average='macro'))"
      ]
    },
    {
      "cell_type": "code",
      "execution_count": 42,
      "metadata": {},
      "outputs": [
        {
          "name": "stderr",
          "output_type": "stream",
          "text": [
            "100%|██████████| 140/140 [08:46<00:00,  3.76s/it]\n"
          ]
        },
        {
          "name": "stdout",
          "output_type": "stream",
          "text": [
            "unvisited =  1\n",
            "              precision    recall  f1-score   support\n",
            "\n",
            "           0       0.36      0.59      0.45       285\n",
            "           1       0.52      0.58      0.55       406\n",
            "           2       0.59      0.31      0.40       726\n",
            "           3       0.64      0.59      0.62       379\n",
            "           4       0.14      0.21      0.17       214\n",
            "           5       0.11      0.26      0.16       131\n",
            "           6       0.27      0.20      0.23       344\n",
            "\n",
            "    accuracy                           0.40      2485\n",
            "   macro avg       0.38      0.39      0.37      2485\n",
            "weighted avg       0.45      0.40      0.41      2485\n",
            "\n",
            "accuracy_score 0.4\n",
            "f1_score 0.36767830318577926\n"
          ]
        },
        {
          "name": "stderr",
          "output_type": "stream",
          "text": [
            "100%|██████████| 140/140 [08:50<00:00,  3.79s/it]\n"
          ]
        },
        {
          "name": "stdout",
          "output_type": "stream",
          "text": [
            "unvisited =  27\n",
            "              precision    recall  f1-score   support\n",
            "\n",
            "           0       0.70      0.71      0.71       285\n",
            "           1       0.84      0.90      0.87       406\n",
            "           2       0.87      0.53      0.66       726\n",
            "           3       0.75      0.78      0.76       379\n",
            "           4       0.54      0.82      0.65       214\n",
            "           5       0.43      0.84      0.57       131\n",
            "           6       0.62      0.63      0.63       344\n",
            "\n",
            "    accuracy                           0.71      2485\n",
            "   macro avg       0.68      0.74      0.69      2485\n",
            "weighted avg       0.74      0.71      0.71      2485\n",
            "\n",
            "accuracy_score 0.7054325955734406\n",
            "f1_score 0.6937672972410642\n"
          ]
        },
        {
          "name": "stderr",
          "output_type": "stream",
          "text": [
            "100%|██████████| 140/140 [08:33<00:00,  3.67s/it]"
          ]
        },
        {
          "name": "stdout",
          "output_type": "stream",
          "text": [
            "unvisited =  89\n",
            "              precision    recall  f1-score   support\n",
            "\n",
            "           0       0.58      0.71      0.64       285\n",
            "           1       0.85      0.88      0.87       406\n",
            "           2       0.86      0.54      0.66       726\n",
            "           3       0.74      0.76      0.75       379\n",
            "           4       0.58      0.81      0.68       214\n",
            "           5       0.44      0.83      0.58       131\n",
            "           6       0.60      0.58      0.59       344\n",
            "\n",
            "    accuracy                           0.69      2485\n",
            "   macro avg       0.67      0.73      0.68      2485\n",
            "weighted avg       0.73      0.69      0.69      2485\n",
            "\n",
            "accuracy_score 0.6921529175050302\n",
            "f1_score 0.6804685650782573\n"
          ]
        },
        {
          "name": "stderr",
          "output_type": "stream",
          "text": [
            "\n"
          ]
        }
      ],
      "source": [
        "# Part D. W. teleportation, w. tfidf. \n",
        "transition_matrix = transition\n",
        "num_samples = 1000  \n",
        "num_walk_steps = 100\n",
        "\n",
        "for tp in [0,0.1,0.2]:\n",
        "  visiting_freq_label = []\n",
        "  for i in range(transition_matrix.shape[0]):\n",
        "    visiting_freq_label.append([0,0,0,0,0,0,0])\n",
        "  visiting_freq = [0 for i in range(transition_matrix.shape[0])]\n",
        "\n",
        "  for train_node, predicted in tqdm(zip(train['node'],train['label']), total=len(train['label'])):\n",
        "    for i in range(num_samples):\n",
        "        start_point = train_node\n",
        "        end_node = random_walk_with_teleportation(G, num_walk_steps, start_point, tp, predicted = seeds_dict[predicted], transition_matrix = transition_matrix)\n",
        "        visiting_freq_label[end_node][predicted] += 1\n",
        "        visiting_freq[end_node] +=1\n",
        "  \n",
        "  count = 0 #these many nodes remain unvisited. \n",
        "  for vf in visiting_freq:\n",
        "    if vf ==0:\n",
        "      count+=1\n",
        "  print('unvisited = ', count)\n",
        "  visiting_freq_label = np.asarray(visiting_freq_label)\n",
        "  preds = np.argmax(visiting_freq_label,axis = 1)\n",
        "  print(classification_report(df['label'], preds))\n",
        "  print('accuracy_score', accuracy_score(df['label'], preds))\n",
        "  print('f1_score', f1_score(df['label'], preds, average='macro'))"
      ]
    }
  ],
  "metadata": {
    "colab": {
      "collapsed_sections": [],
      "name": "cora_pagerank_helper.ipynb",
      "provenance": []
    },
    "kernelspec": {
      "display_name": "Python 3",
      "name": "python3"
    },
    "language_info": {
      "codemirror_mode": {
        "name": "ipython",
        "version": 3
      },
      "file_extension": ".py",
      "mimetype": "text/x-python",
      "name": "python",
      "nbconvert_exporter": "python",
      "pygments_lexer": "ipython3",
      "version": "3.9.12"
    }
  },
  "nbformat": 4,
  "nbformat_minor": 0
}
