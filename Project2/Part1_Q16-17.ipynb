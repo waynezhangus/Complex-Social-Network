{
 "cells": [
  {
   "cell_type": "code",
   "execution_count": 1,
   "id": "bcfbcaa0",
   "metadata": {},
   "outputs": [
    {
     "name": "stderr",
     "output_type": "stream",
     "text": [
      "Loading required package: igraph\n",
      "\n",
      "\n",
      "Attaching package: ‘igraph’\n",
      "\n",
      "\n",
      "The following objects are masked from ‘package:stats’:\n",
      "\n",
      "    decompose, spectrum\n",
      "\n",
      "\n",
      "The following object is masked from ‘package:base’:\n",
      "\n",
      "    union\n",
      "\n",
      "\n"
     ]
    }
   ],
   "source": [
    "\n",
    "if(!require('igraph')) install.packages('igraph')\n",
    "library('igraph')"
   ]
  },
  {
   "cell_type": "markdown",
   "id": "d95e523e",
   "metadata": {},
   "source": [
    "## Q16"
   ]
  },
  {
   "cell_type": "code",
   "execution_count": 135,
   "id": "77415054",
   "metadata": {},
   "outputs": [
    {
     "name": "stdout",
     "output_type": "stream",
     "text": [
      "the length of Nr is  11 \n"
     ]
    }
   ],
   "source": [
    "graph <- read.graph(\"facebook_combined.txt\", format=\"edgelist\", directed=FALSE)\n",
    "V(graph)$name <- V(graph)\n",
    "subgraph <- induced_subgraph(graph, c(415,neighbors(fb_graph,415)))\n",
    "\n",
    "Nr <- as.numeric(which(degree(subgraph)==24))\n",
    "\n",
    "cat(\"the length of Nr is \", length(Nr), \"\\n\")"
   ]
  },
  {
   "cell_type": "markdown",
   "id": "80a608d8",
   "metadata": {},
   "source": [
    "## Q17"
   ]
  },
  {
   "cell_type": "code",
   "execution_count": 140,
   "id": "a5bf031d",
   "metadata": {},
   "outputs": [],
   "source": [
    "\n",
    "common_algo <- function (graph, i, j) {\n",
    "    return (length(intersect(neighbors(graph, i), neighbors(graph, j))))\n",
    "}\n",
    "\n",
    "jaccard_algo <- function (graph, i, j) {\n",
    "    total_f <- length(union(neighbors(graph, i), neighbors(graph, j)))\n",
    "    mutual_f <- length(intersect(neighbors(graph, i), neighbors(graph, j)))\n",
    "    return (mutual_f/total_f)\n",
    "}\n",
    "\n",
    "adamic_algo <- function (graph, i, j) {\n",
    "    result <- 0\n",
    "    mutual_f <- intersect(neighbors(graph, i), neighbors(graph, j))\n",
    "    for (node in mutual_f){\n",
    "        result <- result + 1/log(length(neighbors(graph, node)))\n",
    "    }\n",
    "    return (result)\n",
    "}\n",
    "\n"
   ]
  },
  {
   "cell_type": "code",
   "execution_count": 141,
   "id": "e8d5623d",
   "metadata": {},
   "outputs": [],
   "source": [
    "# recommend friend based on neighbor measure\n",
    "friend_rec <- function (graph, i, size_of_deleted, algo = \"jaccard\") {\n",
    "    # i, return_node: node index in V(graph), not node ID\n",
    "    # t: recommemd t new friends\n",
    "    \n",
    "    friends_to_be_rec <- setdiff(V(graph), c(as.numeric(neighbors(graph, i)), i))\n",
    "    value <- 0\n",
    "    rec_value <- c()\n",
    "    for (friend in friends_to_be_rec) {\n",
    "        if (algo == \"common\") {\n",
    "            value <- (common_algo(graph, i, friend))\n",
    "        } else if (algo == \"jaccard\") {\n",
    "            value <- (jaccard_algo(graph, i, friend))\n",
    "        } else if (algo == \"adamic\") {\n",
    "            value <- (adamic_algo(graph, i, friend))\n",
    "        }\n",
    "        rec_value <- c(rec_value, value)\n",
    "    }\n",
    "    \n",
    "    return (friends_to_be_rec[sort(rec_value, decreasing=TRUE, index.return=TRUE)$ix[1:size_of_deleted]])\n",
    "}"
   ]
  },
  {
   "cell_type": "code",
   "execution_count": 142,
   "id": "18bfa677",
   "metadata": {},
   "outputs": [],
   "source": [
    "\n",
    "calculate_single_node_value <- function (graph, i, algo) {\n",
    "    # delete current graph edges\n",
    "    copy_graph <- graph\n",
    "    deleted_f <- c()\n",
    "    while (length(deleted_f) == 0) {\n",
    "        for (node in as.numeric(neighbors(copy_graph, i))) {\n",
    "            if (runif(1,0,1) <= 0.25) {\n",
    "                copy_graph <- delete_edges(copy_graph, get.edge.ids(copy_graph,c(i,node)))\n",
    "                deleted_f <- c(deleted_f, node)\n",
    "            }\n",
    "        }\n",
    "    }\n",
    "    \n",
    "    # calculate value\n",
    "    size_of_deleted = length(deleted_f)\n",
    "\n",
    "    friends_to_be_rec <- setdiff(V(copy_graph), c(as.numeric(neighbors(copy_graph, i)), i))\n",
    "    value <- 0\n",
    "    rec_value <- c()\n",
    "    for (friend in friends_to_be_rec) {\n",
    "        if (algo == \"common\") {\n",
    "            value <- (common_algo(copy_graph, i, friend))\n",
    "        } else if (algo == \"jaccard\") {\n",
    "            value <- (jaccard_algo(copy_graph, i, friend))\n",
    "        } else if (algo == \"adamic\") {\n",
    "            value <- (adamic_algo(copy_graph, i, friend))\n",
    "        }\n",
    "        rec_value <- c(rec_value, value)\n",
    "    }  \n",
    "    \n",
    "    friends = friends_to_be_rec[sort(rec_value, decreasing=TRUE, index.return=TRUE)$ix[1:size_of_deleted]]\n",
    "    \n",
    "    return (length(intersect(friends, deleted_f))/length(deleted_f))\n",
    "}"
   ]
  },
  {
   "cell_type": "code",
   "execution_count": 143,
   "id": "7985e9cd",
   "metadata": {},
   "outputs": [
    {
     "data": {
      "text/html": [
       "<table class=\"dataframe\">\n",
       "<caption>A data.frame: 11 × 3</caption>\n",
       "<thead>\n",
       "\t<tr><th></th><th scope=col>common</th><th scope=col>jaccard</th><th scope=col>adamic</th></tr>\n",
       "\t<tr><th></th><th scope=col>&lt;dbl&gt;</th><th scope=col>&lt;dbl&gt;</th><th scope=col>&lt;dbl&gt;</th></tr>\n",
       "</thead>\n",
       "<tbody>\n",
       "\t<tr><th scope=row>497</th><td>0.3566667</td><td>0.1365584</td><td>0.2538745</td></tr>\n",
       "\t<tr><th scope=row>579</th><td>0.9909091</td><td>0.9547619</td><td>0.9857143</td></tr>\n",
       "\t<tr><th scope=row>601</th><td>0.9365476</td><td>0.8386111</td><td>0.8606410</td></tr>\n",
       "\t<tr><th scope=row>616</th><td>0.8529365</td><td>0.8316667</td><td>0.8004762</td></tr>\n",
       "\t<tr><th scope=row>619</th><td>0.3976190</td><td>0.5025000</td><td>0.4620238</td></tr>\n",
       "\t<tr><th scope=row>628</th><td>0.9875000</td><td>0.9246032</td><td>1.0000000</td></tr>\n",
       "\t<tr><th scope=row>644</th><td>0.9421032</td><td>0.8622222</td><td>0.8371789</td></tr>\n",
       "\t<tr><th scope=row>659</th><td>0.9857143</td><td>0.9888889</td><td>0.9466667</td></tr>\n",
       "\t<tr><th scope=row>660</th><td>1.0000000</td><td>0.9708333</td><td>1.0000000</td></tr>\n",
       "\t<tr><th scope=row>662</th><td>0.8854365</td><td>0.9080952</td><td>0.8841234</td></tr>\n",
       "\t<tr><th scope=row>663</th><td>0.9732143</td><td>0.9450000</td><td>0.9666667</td></tr>\n",
       "</tbody>\n",
       "</table>\n"
      ],
      "text/latex": [
       "A data.frame: 11 × 3\n",
       "\\begin{tabular}{r|lll}\n",
       "  & common & jaccard & adamic\\\\\n",
       "  & <dbl> & <dbl> & <dbl>\\\\\n",
       "\\hline\n",
       "\t497 & 0.3566667 & 0.1365584 & 0.2538745\\\\\n",
       "\t579 & 0.9909091 & 0.9547619 & 0.9857143\\\\\n",
       "\t601 & 0.9365476 & 0.8386111 & 0.8606410\\\\\n",
       "\t616 & 0.8529365 & 0.8316667 & 0.8004762\\\\\n",
       "\t619 & 0.3976190 & 0.5025000 & 0.4620238\\\\\n",
       "\t628 & 0.9875000 & 0.9246032 & 1.0000000\\\\\n",
       "\t644 & 0.9421032 & 0.8622222 & 0.8371789\\\\\n",
       "\t659 & 0.9857143 & 0.9888889 & 0.9466667\\\\\n",
       "\t660 & 1.0000000 & 0.9708333 & 1.0000000\\\\\n",
       "\t662 & 0.8854365 & 0.9080952 & 0.8841234\\\\\n",
       "\t663 & 0.9732143 & 0.9450000 & 0.9666667\\\\\n",
       "\\end{tabular}\n"
      ],
      "text/markdown": [
       "\n",
       "A data.frame: 11 × 3\n",
       "\n",
       "| <!--/--> | common &lt;dbl&gt; | jaccard &lt;dbl&gt; | adamic &lt;dbl&gt; |\n",
       "|---|---|---|---|\n",
       "| 497 | 0.3566667 | 0.1365584 | 0.2538745 |\n",
       "| 579 | 0.9909091 | 0.9547619 | 0.9857143 |\n",
       "| 601 | 0.9365476 | 0.8386111 | 0.8606410 |\n",
       "| 616 | 0.8529365 | 0.8316667 | 0.8004762 |\n",
       "| 619 | 0.3976190 | 0.5025000 | 0.4620238 |\n",
       "| 628 | 0.9875000 | 0.9246032 | 1.0000000 |\n",
       "| 644 | 0.9421032 | 0.8622222 | 0.8371789 |\n",
       "| 659 | 0.9857143 | 0.9888889 | 0.9466667 |\n",
       "| 660 | 1.0000000 | 0.9708333 | 1.0000000 |\n",
       "| 662 | 0.8854365 | 0.9080952 | 0.8841234 |\n",
       "| 663 | 0.9732143 | 0.9450000 | 0.9666667 |\n",
       "\n"
      ],
      "text/plain": [
       "    common    jaccard   adamic   \n",
       "497 0.3566667 0.1365584 0.2538745\n",
       "579 0.9909091 0.9547619 0.9857143\n",
       "601 0.9365476 0.8386111 0.8606410\n",
       "616 0.8529365 0.8316667 0.8004762\n",
       "619 0.3976190 0.5025000 0.4620238\n",
       "628 0.9875000 0.9246032 1.0000000\n",
       "644 0.9421032 0.8622222 0.8371789\n",
       "659 0.9857143 0.9888889 0.9466667\n",
       "660 1.0000000 0.9708333 1.0000000\n",
       "662 0.8854365 0.9080952 0.8841234\n",
       "663 0.9732143 0.9450000 0.9666667"
      ]
     },
     "metadata": {},
     "output_type": "display_data"
    }
   ],
   "source": [
    "result <- data.frame()\n",
    "for (algo in c(\"common\", \"jaccard\", \"adamic\")){\n",
    "    \n",
    "    for (i in Nr){\n",
    "        total_value <- 0\n",
    "        for (n in 1:10) {\n",
    "            total_value <- total_value + calculate_single_node_value(subgraph, i, algo)\n",
    "        }\n",
    "        value_aver <- total_value/10\n",
    "        result[toString(V(subgraph)[i]$name), algo] <- value_aver\n",
    "    }\n",
    "}\n",
    "result"
   ]
  },
  {
   "cell_type": "code",
   "execution_count": 146,
   "id": "d6fafd46",
   "metadata": {},
   "outputs": [],
   "source": [
    "average_each_method <- colSums(result)/11"
   ]
  },
  {
   "cell_type": "code",
   "execution_count": 147,
   "id": "f1c45083",
   "metadata": {},
   "outputs": [
    {
     "data": {
      "text/html": [
       "<style>\n",
       ".dl-inline {width: auto; margin:0; padding: 0}\n",
       ".dl-inline>dt, .dl-inline>dd {float: none; width: auto; display: inline-block}\n",
       ".dl-inline>dt::after {content: \":\\0020\"; padding-right: .5ex}\n",
       ".dl-inline>dt:not(:first-of-type) {padding-left: .5ex}\n",
       "</style><dl class=dl-inline><dt>common</dt><dd>0.846240653286108</dd><dt>jaccard</dt><dd>0.805794634658271</dd><dt>adamic</dt><dd>0.817942310215038</dd></dl>\n"
      ],
      "text/latex": [
       "\\begin{description*}\n",
       "\\item[common] 0.846240653286108\n",
       "\\item[jaccard] 0.805794634658271\n",
       "\\item[adamic] 0.817942310215038\n",
       "\\end{description*}\n"
      ],
      "text/markdown": [
       "common\n",
       ":   0.846240653286108jaccard\n",
       ":   0.805794634658271adamic\n",
       ":   0.817942310215038\n",
       "\n"
      ],
      "text/plain": [
       "   common   jaccard    adamic \n",
       "0.8462407 0.8057946 0.8179423 "
      ]
     },
     "metadata": {},
     "output_type": "display_data"
    }
   ],
   "source": [
    "average_each_method"
   ]
  },
  {
   "cell_type": "code",
   "execution_count": null,
   "id": "0d07677e",
   "metadata": {},
   "outputs": [],
   "source": []
  }
 ],
 "metadata": {
  "kernelspec": {
   "display_name": "R",
   "language": "R",
   "name": "ir"
  },
  "language_info": {
   "codemirror_mode": "r",
   "file_extension": ".r",
   "mimetype": "text/x-r-source",
   "name": "R",
   "pygments_lexer": "r",
   "version": "4.1.3"
  }
 },
 "nbformat": 4,
 "nbformat_minor": 5
}
